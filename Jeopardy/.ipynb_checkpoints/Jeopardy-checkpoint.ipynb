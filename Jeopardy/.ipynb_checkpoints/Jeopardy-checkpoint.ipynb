{
 "cells": [
  {
   "cell_type": "markdown",
   "metadata": {},
   "source": [
    "An analysis of Jeopardy questions and answers, with guidance from Dataquest."
   ]
  },
  {
   "cell_type": "code",
   "execution_count": 10,
   "metadata": {},
   "outputs": [
    {
     "name": "stdout",
     "output_type": "stream",
     "text": [
      "   Show Number    Air Date      Round                         Category  Value  \\\n",
      "0         4680  2004-12-31  Jeopardy!                          HISTORY   $200   \n",
      "1         4680  2004-12-31  Jeopardy!  ESPN's TOP 10 ALL-TIME ATHLETES   $200   \n",
      "2         4680  2004-12-31  Jeopardy!      EVERYBODY TALKS ABOUT IT...   $200   \n",
      "3         4680  2004-12-31  Jeopardy!                 THE COMPANY LINE   $200   \n",
      "4         4680  2004-12-31  Jeopardy!              EPITAPHS & TRIBUTES   $200   \n",
      "\n",
      "                                            Question      Answer  \n",
      "0  For the last 8 years of his life, Galileo was ...  Copernicus  \n",
      "1  No. 2: 1912 Olympian; football star at Carlisl...  Jim Thorpe  \n",
      "2  The city of Yuma in this state has a record av...     Arizona  \n",
      "3  In 1963, live on \"The Art Linkletter Show\", th...  McDonald's  \n",
      "4  Signer of the Dec. of Indep., framer of the Co...  John Adams  \n",
      "Index(['Show Number', ' Air Date', ' Round', ' Category', ' Value',\n",
      "       ' Question', ' Answer'],\n",
      "      dtype='object')\n"
     ]
    }
   ],
   "source": [
    "import pandas as pd\n",
    "jeopardy = pd.read_csv(\"jeopardy.csv\")\n",
    "print(jeopardy.head(5))\n",
    "print(jeopardy.columns)"
   ]
  },
  {
   "cell_type": "code",
   "execution_count": 11,
   "metadata": {},
   "outputs": [
    {
     "name": "stdout",
     "output_type": "stream",
     "text": [
      "Index(['ShowNumber', 'AirDate', 'Round', 'Category', 'Value', 'Question',\n",
      "       'Answer'],\n",
      "      dtype='object')\n"
     ]
    }
   ],
   "source": [
    "new_columns = []\n",
    "for column in jeopardy.columns:\n",
    "    new_columns.append(column.replace(\" \", \"\"))\n",
    "jeopardy.columns = new_columns\n",
    "print(jeopardy.columns)"
   ]
  },
  {
   "cell_type": "code",
   "execution_count": 12,
   "metadata": {},
   "outputs": [
    {
     "name": "stdout",
     "output_type": "stream",
     "text": [
      "0        for the last 8 years of his life galileo was u...\n",
      "1        no 2 1912 olympian football star at carlisle i...\n",
      "2        the city of yuma in this state has a record av...\n",
      "3        in 1963 live on the art linkletter show this c...\n",
      "4        signer of the dec of indep framer of the const...\n",
      "5        in the title of an aesop fable this insect sha...\n",
      "6        built in 312 bc to link rome  the south of ita...\n",
      "7        no 8 30 steals for the birmingham barons 2306 ...\n",
      "8        in the winter of 197172 a record 1122 inches o...\n",
      "9        this housewares store was named for the packag...\n",
      "10                                          and away we go\n",
      "11       cows regurgitate this from the first stomach t...\n",
      "12       in 1000 rajaraja i of the cholas battled to ta...\n",
      "13       no 1 lettered in hoops football  lacrosse at s...\n",
      "14       on june 28 1994 the natl weather service began...\n",
      "15       this companys accutron watch introduced in 196...\n",
      "16       outlaw murdered by a traitor and a coward whos...\n",
      "17       a small demon or a mischievous child who might...\n",
      "18       karl led the first of these marxist organizati...\n",
      "19       no 10 fblb for columbia u in the 1920s mvp for...\n",
      "20       africas lowest temperature was 11 degrees belo...\n",
      "21       edward teller  this man partnered in 1898 to s...\n",
      "22       1939 oscar winner you are a credit to your cra...\n",
      "23       in geologic time one of these shorter than an ...\n",
      "24       this asian political party was founded in 1885...\n",
      "25       no 5 only center to lead the nba in assists tr...\n",
      "26       the kirschner brothers don  bill named this sk...\n",
      "27       revolutionary war hero his spirit is in vermon...\n",
      "28       a single layer of paper or to perform ones cra...\n",
      "29       a hrefhttpwwwjarchivecommedia20041231dj23mp3be...\n",
      "                               ...                        \n",
      "19969    in 1960 the last of these locomotives was reti...\n",
      "19970    kate if i be waspish best beware my sting his ...\n",
      "19971    this private college in northern california bo...\n",
      "19972    she voiced princess pea in the tale of despere...\n",
      "19973    its the name of the longawaited new white hous...\n",
      "19974    langdon in angels  demons is looking for a hre...\n",
      "19975    in the 1600s most of new york state was occupi...\n",
      "19976                marinas dad need a hint he rules tyre\n",
      "19977    presidential kids are welcome at this new orle...\n",
      "19978    she didnt vamp it up  did a bella job as em in...\n",
      "19979    third syllable intoned by the giant who smells...\n",
      "19980    much of angels  demons takes place at one of a...\n",
      "19981    in 1899 secretary of state john hay proclaimed...\n",
      "19982    fruity surname of peter in a midsummer nights ...\n",
      "19983    quincy jones kevin eubanks  branford marsalis ...\n",
      "19984    in 2009 she returned to being fast  furious as...\n",
      "19985    the book of genesis says this ancient city of ...\n",
      "19986    habakkuk and the angel is one of a series of a...\n",
      "19987    in medieval england it meant the smallest unit...\n",
      "19988    this texas city is the largest in the us to ha...\n",
      "19989                                         the crickets\n",
      "19990    in the 990s this son of erik the red brought c...\n",
      "19991    concerning a failed windows 98 demonstration h...\n",
      "19992    this llama product is used to make hats blanke...\n",
      "19993    in 1967 this company introduced its chocolatec...\n",
      "19994    of 8 12 or 18 the number of us states that tou...\n",
      "19995                             the new power generation\n",
      "19996    in 1589 he was appointed professor of mathemat...\n",
      "19997    before the grand jury she said im really sorry...\n",
      "19998    llamas are the heftiest south american members...\n",
      "Name: clean_question, dtype: object\n"
     ]
    }
   ],
   "source": [
    "from string import punctuation\n",
    "def normalize(phrase):\n",
    "    lower = phrase.lower()\n",
    "    return ''.join(c for c in lower if c not in punctuation)\n",
    "\n",
    "jeopardy[\"clean_question\"] = jeopardy[\"Question\"].apply(normalize)\n",
    "print(jeopardy[\"clean_question\"])"
   ]
  },
  {
   "cell_type": "code",
   "execution_count": 13,
   "metadata": {},
   "outputs": [
    {
     "name": "stdout",
     "output_type": "stream",
     "text": [
      "0                                               copernicus\n",
      "1                                               jim thorpe\n",
      "2                                                  arizona\n",
      "3                                                mcdonalds\n",
      "4                                               john adams\n",
      "5                                                  the ant\n",
      "6                                           the appian way\n",
      "7                                           michael jordan\n",
      "8                                               washington\n",
      "9                                            crate  barrel\n",
      "10                                          jackie gleason\n",
      "11                                                 the cud\n",
      "12                                     ceylon or sri lanka\n",
      "13                                               jim brown\n",
      "14                                            the uv index\n",
      "15                                                  bulova\n",
      "16                                             jesse james\n",
      "17                                                     imp\n",
      "18                                       the international\n",
      "19                                              lou gehrig\n",
      "20                                                 morocco\n",
      "21                                             paul bonwit\n",
      "22       hattie mcdaniel for her role in gone with the ...\n",
      "23                                                     era\n",
      "24                                      the congress party\n",
      "25                                        wilt chamberlain\n",
      "26                                                      k2\n",
      "27                                             ethan allen\n",
      "28                                                     ply\n",
      "29                                                  horton\n",
      "                               ...                        \n",
      "19969                                        steam engines\n",
      "19970                                            petruchio\n",
      "19971                                  stanford university\n",
      "19972                                          emma watson\n",
      "19973                                                   bo\n",
      "19974                                   an antimatter bomb\n",
      "19975                                         the iroquois\n",
      "19976                                             pericles\n",
      "19977                                               tulane\n",
      "19978                                      kristen stewart\n",
      "19979                                                   fo\n",
      "19980                                           a conclave\n",
      "19981                                      opendoor policy\n",
      "19982                                               quince\n",
      "19983                                              berklee\n",
      "19984                                   michelle rodriguez\n",
      "19985                                                   ur\n",
      "19986                                              bernini\n",
      "19987                                                 atom\n",
      "19988                                    houston lee brown\n",
      "19989                                          buddy holly\n",
      "19990                                         leif ericson\n",
      "19991                                           bill gates\n",
      "19992                                                 wool\n",
      "19993                                              hostess\n",
      "19994                                                   18\n",
      "19995                                               prince\n",
      "19996                                              galileo\n",
      "19997                                      monica lewinsky\n",
      "19998                                               camels\n",
      "Name: clean_answer, dtype: object\n"
     ]
    }
   ],
   "source": [
    "jeopardy[\"clean_answer\"] = jeopardy[\"Answer\"].apply(normalize)\n",
    "print(jeopardy[\"clean_answer\"])"
   ]
  },
  {
   "cell_type": "code",
   "execution_count": 14,
   "metadata": {},
   "outputs": [
    {
     "name": "stdout",
     "output_type": "stream",
     "text": [
      "0         200\n",
      "1         200\n",
      "2         200\n",
      "3         200\n",
      "4         200\n",
      "5         200\n",
      "6         400\n",
      "7         400\n",
      "8         400\n",
      "9         400\n",
      "10        400\n",
      "11        400\n",
      "12        600\n",
      "13        600\n",
      "14        600\n",
      "15        600\n",
      "16        600\n",
      "17        600\n",
      "18        800\n",
      "19        800\n",
      "20        800\n",
      "21        800\n",
      "22       2000\n",
      "23        800\n",
      "24       1000\n",
      "25       1000\n",
      "26       1000\n",
      "27       1000\n",
      "28       1000\n",
      "29        400\n",
      "         ... \n",
      "19969    1200\n",
      "19970    1200\n",
      "19971    1500\n",
      "19972    1200\n",
      "19973    1200\n",
      "19974    1200\n",
      "19975    1600\n",
      "19976    1600\n",
      "19977    1600\n",
      "19978    1600\n",
      "19979    1600\n",
      "19980    1600\n",
      "19981    1200\n",
      "19982    2000\n",
      "19983    2000\n",
      "19984    2000\n",
      "19985    2000\n",
      "19986    2000\n",
      "19987       0\n",
      "19988     100\n",
      "19989     100\n",
      "19990     100\n",
      "19991     100\n",
      "19992     100\n",
      "19993     100\n",
      "19994     200\n",
      "19995     200\n",
      "19996     200\n",
      "19997     200\n",
      "19998     200\n",
      "Name: clean_value, dtype: int64\n"
     ]
    }
   ],
   "source": [
    "def norm_value(value):\n",
    "    num = ''.join(c for c in value if c not in punctuation)\n",
    "    try:\n",
    "        result = int(num)\n",
    "    except Exception:\n",
    "        result = 0\n",
    "    return result\n",
    "jeopardy[\"clean_value\"] = jeopardy[\"Value\"].apply(norm_value)\n",
    "print(jeopardy[\"clean_value\"])"
   ]
  },
  {
   "cell_type": "code",
   "execution_count": 15,
   "metadata": {},
   "outputs": [
    {
     "name": "stdout",
     "output_type": "stream",
     "text": [
      "0       2004-12-31\n",
      "1       2004-12-31\n",
      "2       2004-12-31\n",
      "3       2004-12-31\n",
      "4       2004-12-31\n",
      "5       2004-12-31\n",
      "6       2004-12-31\n",
      "7       2004-12-31\n",
      "8       2004-12-31\n",
      "9       2004-12-31\n",
      "10      2004-12-31\n",
      "11      2004-12-31\n",
      "12      2004-12-31\n",
      "13      2004-12-31\n",
      "14      2004-12-31\n",
      "15      2004-12-31\n",
      "16      2004-12-31\n",
      "17      2004-12-31\n",
      "18      2004-12-31\n",
      "19      2004-12-31\n",
      "20      2004-12-31\n",
      "21      2004-12-31\n",
      "22      2004-12-31\n",
      "23      2004-12-31\n",
      "24      2004-12-31\n",
      "25      2004-12-31\n",
      "26      2004-12-31\n",
      "27      2004-12-31\n",
      "28      2004-12-31\n",
      "29      2004-12-31\n",
      "           ...    \n",
      "19969   2009-05-14\n",
      "19970   2009-05-14\n",
      "19971   2009-05-14\n",
      "19972   2009-05-14\n",
      "19973   2009-05-14\n",
      "19974   2009-05-14\n",
      "19975   2009-05-14\n",
      "19976   2009-05-14\n",
      "19977   2009-05-14\n",
      "19978   2009-05-14\n",
      "19979   2009-05-14\n",
      "19980   2009-05-14\n",
      "19981   2009-05-14\n",
      "19982   2009-05-14\n",
      "19983   2009-05-14\n",
      "19984   2009-05-14\n",
      "19985   2009-05-14\n",
      "19986   2009-05-14\n",
      "19987   2009-05-14\n",
      "19988   2000-03-14\n",
      "19989   2000-03-14\n",
      "19990   2000-03-14\n",
      "19991   2000-03-14\n",
      "19992   2000-03-14\n",
      "19993   2000-03-14\n",
      "19994   2000-03-14\n",
      "19995   2000-03-14\n",
      "19996   2000-03-14\n",
      "19997   2000-03-14\n",
      "19998   2000-03-14\n",
      "Name: AirDate, dtype: datetime64[ns]\n"
     ]
    }
   ],
   "source": [
    "jeopardy[\"AirDate\"] = jeopardy[\"AirDate\"].apply(pd.to_datetime)\n",
    "print(jeopardy[\"AirDate\"])"
   ]
  },
  {
   "cell_type": "code",
   "execution_count": 16,
   "metadata": {},
   "outputs": [
    {
     "name": "stdout",
     "output_type": "stream",
     "text": [
      "0        0.000000\n",
      "1        0.000000\n",
      "2        0.000000\n",
      "3        0.000000\n",
      "4        0.000000\n",
      "5        0.000000\n",
      "6        0.000000\n",
      "7        0.000000\n",
      "8        0.000000\n",
      "9        0.333333\n",
      "10       0.000000\n",
      "11       0.000000\n",
      "12       0.000000\n",
      "13       0.000000\n",
      "14       0.500000\n",
      "15       0.000000\n",
      "16       0.000000\n",
      "17       0.000000\n",
      "18       0.000000\n",
      "19       0.000000\n",
      "20       0.000000\n",
      "21       0.000000\n",
      "22       0.000000\n",
      "23       0.000000\n",
      "24       0.500000\n",
      "25       0.000000\n",
      "26       0.000000\n",
      "27       0.000000\n",
      "28       0.000000\n",
      "29       0.000000\n",
      "           ...   \n",
      "19969    0.000000\n",
      "19970    0.000000\n",
      "19971    0.000000\n",
      "19972    0.000000\n",
      "19973    0.000000\n",
      "19974    0.333333\n",
      "19975    0.000000\n",
      "19976    0.000000\n",
      "19977    0.000000\n",
      "19978    0.000000\n",
      "19979    0.000000\n",
      "19980    0.500000\n",
      "19981    0.500000\n",
      "19982    0.000000\n",
      "19983    0.000000\n",
      "19984    0.000000\n",
      "19985    0.000000\n",
      "19986    0.000000\n",
      "19987    0.000000\n",
      "19988    0.000000\n",
      "19989    0.000000\n",
      "19990    0.000000\n",
      "19991    0.000000\n",
      "19992    0.000000\n",
      "19993    0.000000\n",
      "19994    1.000000\n",
      "19995    0.000000\n",
      "19996    0.000000\n",
      "19997    0.000000\n",
      "19998    0.000000\n",
      "Name: answer_in_question, dtype: float64\n"
     ]
    }
   ],
   "source": [
    "def find_matches(row):\n",
    "    split_answer = row[\"clean_answer\"].split(\" \")\n",
    "    split_question = row[\"clean_question\"].split(\" \")\n",
    "    match_count = 0\n",
    "    if \"the\" in split_answer:\n",
    "        split_answer.remove(\"the\")\n",
    "    if len(split_answer) == 0:\n",
    "        return 0\n",
    "    for item in split_answer:\n",
    "        if item in split_question:\n",
    "            match_count += 1\n",
    "    return match_count / len(split_answer)\n",
    "jeopardy[\"answer_in_question\"] = jeopardy.apply(find_matches, axis=1)\n",
    "print(jeopardy[\"answer_in_question\"])"
   ]
  },
  {
   "cell_type": "code",
   "execution_count": 17,
   "metadata": {},
   "outputs": [
    {
     "name": "stdout",
     "output_type": "stream",
     "text": [
      "0.0603527738547\n"
     ]
    }
   ],
   "source": [
    "print(jeopardy[\"answer_in_question\"].mean())"
   ]
  },
  {
   "cell_type": "code",
   "execution_count": 46,
   "metadata": {},
   "outputs": [
    {
     "name": "stdout",
     "output_type": "stream",
     "text": [
      "[0.0, 0.08333333333333333, 0.1, 0.1111111111111111, 0.3333333333333333, 0.3333333333333333, 0.0, 0.5714285714285714, 0.3333333333333333, 0.25]\n"
     ]
    }
   ],
   "source": [
    "question_overlap = []\n",
    "terms_used = set()\n",
    "for row in jeopardy.iterrows():\n",
    "    split_question = row[1][7].split(\" \")\n",
    "    for word in split_question:\n",
    "        if len(word) < 6:\n",
    "            split_question.remove(word)\n",
    "    match_count = 0\n",
    "    for word in split_question:\n",
    "        if word in terms_used:\n",
    "            match_count += 1\n",
    "        terms_used.add(word)\n",
    "    if len(split_question) > 0:\n",
    "        match_count = match_count / len(split_question)\n",
    "    question_overlap.append(match_count)\n",
    "print(question_overlap[0:10])"
   ]
  },
  {
   "cell_type": "code",
   "execution_count": 30,
   "metadata": {},
   "outputs": [
    {
     "name": "stdout",
     "output_type": "stream",
     "text": [
      "0.803565789053\n"
     ]
    }
   ],
   "source": [
    "jeopardy[\"question_overlap\"] = question_overlap\n",
    "print(jeopardy[\"question_overlap\"].mean())"
   ]
  },
  {
   "cell_type": "code",
   "execution_count": 33,
   "metadata": {},
   "outputs": [
    {
     "name": "stdout",
     "output_type": "stream",
     "text": [
      "0        0\n",
      "1        0\n",
      "2        0\n",
      "3        0\n",
      "4        0\n",
      "5        0\n",
      "6        0\n",
      "7        0\n",
      "8        0\n",
      "9        0\n",
      "10       0\n",
      "11       0\n",
      "12       0\n",
      "13       0\n",
      "14       0\n",
      "15       0\n",
      "16       0\n",
      "17       0\n",
      "18       0\n",
      "19       0\n",
      "20       0\n",
      "21       0\n",
      "22       1\n",
      "23       0\n",
      "24       1\n",
      "25       1\n",
      "26       1\n",
      "27       1\n",
      "28       1\n",
      "29       0\n",
      "        ..\n",
      "19969    1\n",
      "19970    1\n",
      "19971    1\n",
      "19972    1\n",
      "19973    1\n",
      "19974    1\n",
      "19975    1\n",
      "19976    1\n",
      "19977    1\n",
      "19978    1\n",
      "19979    1\n",
      "19980    1\n",
      "19981    1\n",
      "19982    1\n",
      "19983    1\n",
      "19984    1\n",
      "19985    1\n",
      "19986    1\n",
      "19987    0\n",
      "19988    0\n",
      "19989    0\n",
      "19990    0\n",
      "19991    0\n",
      "19992    0\n",
      "19993    0\n",
      "19994    0\n",
      "19995    0\n",
      "19996    0\n",
      "19997    0\n",
      "19998    0\n",
      "Name: high_value, dtype: int64\n"
     ]
    }
   ],
   "source": [
    "def rate_value(row):\n",
    "    if row[\"clean_value\"] > 800:\n",
    "        value = 1\n",
    "    else:\n",
    "        value = 0\n",
    "    return value\n",
    "jeopardy[\"high_value\"] = jeopardy.apply(rate_value, axis=1)\n",
    "print(jeopardy[\"high_value\"])"
   ]
  },
  {
   "cell_type": "code",
   "execution_count": 37,
   "metadata": {},
   "outputs": [
    {
     "name": "stdout",
     "output_type": "stream",
     "text": [
      "['', 'organist', 'bassanis', 'nail', 'disputes']\n"
     ]
    }
   ],
   "source": [
    "def count_high_value(word):\n",
    "    low_count = 0\n",
    "    high_count = 0\n",
    "    for row in jeopardy.iterrows():\n",
    "        split_question = row[1][7].split(\" \")\n",
    "        for item in split_question:\n",
    "            if item == word:\n",
    "                if row[1][12] == 1:\n",
    "                    high_count += 1\n",
    "                else:\n",
    "                    low_count += 1\n",
    "    return high_count, low_count\n",
    "observed_expected = []\n",
    "comparison_terms = list(terms_used)[0:5]\n",
    "print(comparison_terms)"
   ]
  },
  {
   "cell_type": "code",
   "execution_count": 39,
   "metadata": {},
   "outputs": [
    {
     "name": "stdout",
     "output_type": "stream",
     "text": [
      "[(1638, 3778), (0, 1), (0, 1), (2, 4), (1, 0), (1638, 3778), (0, 1), (0, 1), (2, 4), (1, 0)]\n"
     ]
    }
   ],
   "source": [
    "for item in comparison_terms:\n",
    "    observed_expected.append(count_high_value(item))\n",
    "print(observed_expected)"
   ]
  },
  {
   "cell_type": "code",
   "execution_count": 42,
   "metadata": {},
   "outputs": [
    {
     "name": "stdout",
     "output_type": "stream",
     "text": [
      "5734 14265\n"
     ]
    }
   ],
   "source": [
    "high_value_count = 0\n",
    "low_value_count = 0\n",
    "for value in jeopardy[\"high_value\"]:\n",
    "    if value == 1:\n",
    "        high_value_count += 1\n",
    "    if value == 0:\n",
    "        low_value_count += 1\n",
    "print(high_value_count, low_value_count)"
   ]
  },
  {
   "cell_type": "code",
   "execution_count": 44,
   "metadata": {},
   "outputs": [
    {
     "name": "stdout",
     "output_type": "stream",
     "text": [
      "Power_divergenceResult(statistic=6.5468193328041924, pvalue=0.010507182744858646)\n",
      "Power_divergenceResult(statistic=0.40196284612688399, pvalue=0.52607729857054686)\n",
      "Power_divergenceResult(statistic=0.40196284612688399, pvalue=0.52607729857054686)\n",
      "Power_divergenceResult(statistic=0.063762334468807247, pvalue=0.80064530268787815)\n",
      "Power_divergenceResult(statistic=2.4877921171956752, pvalue=0.11473257634454047)\n",
      "Power_divergenceResult(statistic=6.5468193328041924, pvalue=0.010507182744858646)\n",
      "Power_divergenceResult(statistic=0.40196284612688399, pvalue=0.52607729857054686)\n",
      "Power_divergenceResult(statistic=0.40196284612688399, pvalue=0.52607729857054686)\n",
      "Power_divergenceResult(statistic=0.063762334468807247, pvalue=0.80064530268787815)\n",
      "Power_divergenceResult(statistic=2.4877921171956752, pvalue=0.11473257634454047)\n"
     ]
    }
   ],
   "source": [
    "from scipy.stats import chisquare\n",
    "chi_squared = []\n",
    "for item in observed_expected:\n",
    "    total = item[0] + item[1]\n",
    "    total_prop = total / jeopardy.shape[0]\n",
    "    expected_high = total_prop * high_value_count\n",
    "    expected_low = total_prop * low_value_count\n",
    "    chi_squared.append(chisquare(item, [expected_high, expected_low]))\n",
    "for item in chi_squared:\n",
    "    print(item)"
   ]
  },
  {
   "cell_type": "code",
   "execution_count": null,
   "metadata": {
    "collapsed": true
   },
   "outputs": [],
   "source": []
  }
 ],
 "metadata": {
  "kernelspec": {
   "display_name": "Python 3",
   "language": "python",
   "name": "python3"
  },
  "language_info": {
   "codemirror_mode": {
    "name": "ipython",
    "version": 3
   },
   "file_extension": ".py",
   "mimetype": "text/x-python",
   "name": "python",
   "nbconvert_exporter": "python",
   "pygments_lexer": "ipython3",
   "version": "3.6.0"
  }
 },
 "nbformat": 4,
 "nbformat_minor": 1
}
